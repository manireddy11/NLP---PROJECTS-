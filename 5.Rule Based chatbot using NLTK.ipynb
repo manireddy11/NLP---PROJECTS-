{
 "cells": [
  {
   "cell_type": "markdown",
   "id": "732b7c95-202f-4253-bd9a-b8960014f6ab",
   "metadata": {},
   "source": [
    "RULE BASED CHATBOT USING NLTK"
   ]
  },
  {
   "attachments": {
    "2f7fa150-2d15-4c4e-ad13-f42929047b6b.jpeg": {
     "image/jpeg": "[encoded data removed]"
    }
   },
   "cell_type": "markdown",
   "id": "db19b6fe-ec39-4d8e-bc88-17c1cc1d5e4a",
   "metadata": {},
   "source": [
    "![chatbot.jpeg](attachment:2f7fa150-2d15-4c4e-ad13-f42929047b6b.jpeg)"
   ]
  },
  {
   "cell_type": "code",
   "execution_count": 1,
   "id": "fce7f2c9-b148-4c6d-ac56-d953f1b46738",
   "metadata": {},
   "outputs": [],
   "source": [
    "from nltk.chat.util import Chat, reflections\n"
   ]
  },
  {
   "cell_type": "code",
   "execution_count": 2,
   "id": "08045999-d833-431b-948c-a12d7a7de856",
   "metadata": {},
   "outputs": [],
   "source": [
    "#Pairs is a list of patterns and responses.\n",
    "pairs = [\n",
    "    [\n",
    "        r\"(.*)my name is (.*)\",\n",
    "        [\"Hello %2, How are you today ?\",]\n",
    "    ],\n",
    "    [\n",
    "        r\"(.*)help(.*) \",\n",
    "        [\"I can help you \",]\n",
    "    ],\n",
    "     [\n",
    "        r\"(.*) your name ?\",\n",
    "        [\"My name is thecleverprogrammer, but you can just call me robot and I'm a chatbot .\",]\n",
    "    ],\n",
    "    [\n",
    "        r\"how are you (.*) ?\",\n",
    "        [\"I'm doing very well\", \"i am great !\"]\n",
    "    ],\n",
    "    [\n",
    "        r\"sorry (.*)\",\n",
    "        [\"Its alright\",\"Its OK, never mind that\",]\n",
    "    ],\n",
    "    [\n",
    "        r\"i'm (.*) (good|well|okay|ok)\",\n",
    "        [\"Nice to hear that\",\"Alright, great !\",]\n",
    "    ],\n",
    "    [\n",
    "        r\"(hi|hey|hello|hola|holla)(.*)\",\n",
    "        [\"Hello\", \"Hey there\",]\n",
    "    ],\n",
    "    [\n",
    "        r\"what (.*) want ?\",\n",
    "        [\"Make me an offer I can't refuse\",]\n",
    "        \n",
    "    ],\n",
    "    [\n",
    "        r\"(.*)created(.*)\",\n",
    "        [\"prakash created me using Python's NLTK library \",\"top secret ;)\",]\n",
    "    ],\n",
    "    [\n",
    "        r\"(.*) (location|city) ?\",\n",
    "        ['hyderabad, India',]\n",
    "    ],\n",
    "    [\n",
    "        r\"(.*)raining in (.*)\",\n",
    "        [\"No rain in the past 4 days here in %2\",\"In %2 there is a 50% chance of rain\",]\n",
    "    ],\n",
    "    [\n",
    "        r\"how (.*) health (.*)\",\n",
    "        [\"Health is very important, but I am a computer, so I don't need to worry about my health \",]\n",
    "    ],\n",
    "    [\n",
    "        r\"(.*)(sports|game|sport)(.*)\",\n",
    "        [\"I'm a very big fan of Cricket\",]\n",
    "    ],\n",
    "    [\n",
    "        r\"who (.*) (Cricketer|Batsman)?\",\n",
    "        [\"Virat Kohli\"]\n",
    "    ],\n",
    "    [\n",
    "        r\"quit\",\n",
    "        [\"Bye for now. See you soon :) \",\"It was nice talking to you. See you soon :)\"]\n",
    "    ],\n",
    "    [\n",
    "        r\"(.*)\",\n",
    "        ['our customer service will reach you']\n",
    "    ],\n",
    " ]   \n"
   ]
  },
  {
   "cell_type": "code",
   "execution_count": 3,
   "id": "eaccf116-1171-4f1e-8df2-4107a1c4a93e",
   "metadata": {},
   "outputs": [
    {
     "data": {
      "text/plain": [
       "[['(.*)my name is (.*)', ['Hello %2, How are you today ?']],\n",
       " ['(.*)help(.*) ', ['I can help you ']],\n",
       " ['(.*) your name ?',\n",
       "  [\"My name is thecleverprogrammer, but you can just call me robot and I'm a chatbot .\"]],\n",
       " ['how are you (.*) ?', [\"I'm doing very well\", 'i am great !']],\n",
       " ['sorry (.*)', ['Its alright', 'Its OK, never mind that']],\n",
       " [\"i'm (.*) (good|well|okay|ok)\", ['Nice to hear that', 'Alright, great !']],\n",
       " ['(hi|hey|hello|hola|holla)(.*)', ['Hello', 'Hey there']],\n",
       " ['what (.*) want ?', [\"Make me an offer I can't refuse\"]],\n",
       " ['(.*)created(.*)',\n",
       "  [\"prakash created me using Python's NLTK library \", 'top secret ;)']],\n",
       " ['(.*) (location|city) ?', ['hyderabad, India']],\n",
       " ['(.*)raining in (.*)',\n",
       "  ['No rain in the past 4 days here in %2',\n",
       "   'In %2 there is a 50% chance of rain']],\n",
       " ['how (.*) health (.*)',\n",
       "  [\"Health is very important, but I am a computer, so I don't need to worry about my health \"]],\n",
       " ['(.*)(sports|game|sport)(.*)', [\"I'm a very big fan of Cricket\"]],\n",
       " ['who (.*) (Cricketer|Batsman)?', ['Virat Kohli']],\n",
       " ['quit',\n",
       "  ['Bye for now. See you soon :) ',\n",
       "   'It was nice talking to you. See you soon :)']],\n",
       " ['(.*)', ['our customer service will reach you']]]"
      ]
     },
     "execution_count": 3,
     "metadata": {},
     "output_type": "execute_result"
    }
   ],
   "source": [
    "pairs"
   ]
  },
  {
   "cell_type": "code",
   "execution_count": null,
   "id": "01fae0ba-1bc9-4273-b7d9-4b29a1ddad6e",
   "metadata": {},
   "outputs": [
    {
     "name": "stdout",
     "output_type": "stream",
     "text": [
      "Hi, I'm thecleverprogrammer and I like to chat\n",
      "Please type lowercase English language to start a conversation. Type quit to leave \n"
     ]
    },
    {
     "name": "stdin",
     "output_type": "stream",
     "text": [
      "> Hi \n"
     ]
    },
    {
     "name": "stdout",
     "output_type": "stream",
     "text": [
      "Hello\n"
     ]
    },
    {
     "name": "stdin",
     "output_type": "stream",
     "text": [
      "> how you are you\n"
     ]
    },
    {
     "name": "stdout",
     "output_type": "stream",
     "text": [
      "our customer service will reach you\n"
     ]
    },
    {
     "name": "stdin",
     "output_type": "stream",
     "text": [
      "> how are you doing\n"
     ]
    },
    {
     "name": "stdout",
     "output_type": "stream",
     "text": [
      "i am great !\n"
     ]
    }
   ],
   "source": [
    "#default message at the start of chat\n",
    "print(\"Hi, I'm thecleverprogrammer and I like to chat\\nPlease type lowercase English language to start a conversation. Type quit to leave \")\n",
    "#Create Chat Bot\n",
    "chat = Chat(pairs, reflections)\n",
    "\n",
    "\n",
    "chat.converse()"
   ]
  },
  {
   "cell_type": "code",
   "execution_count": null,
   "id": "bcb23cb7-d912-4573-a917-25c4fa9c24f0",
   "metadata": {},
   "outputs": [],
   "source": []
  }
 ],
 "metadata": {
  "kernelspec": {
   "display_name": "Python 3 (ipykernel)",
   "language": "python",
   "name": "python3"
  },
  "language_info": {
   "codemirror_mode": {
    "name": "ipython",
    "version": 3
   },
   "file_extension": ".py",
   "mimetype": "text/x-python",
   "name": "python",
   "nbconvert_exporter": "python",
   "pygments_lexer": "ipython3",
   "version": "3.11.7"
  }
 },
 "nbformat": 4,
 "nbformat_minor": 5
}
